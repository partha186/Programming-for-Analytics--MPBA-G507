{
 "cells": [
  {
   "cell_type": "markdown",
   "metadata": {},
   "source": [
    "## Operations on Text Data"
   ]
  },
  {
   "cell_type": "markdown",
   "metadata": {},
   "source": [
    "Throughout this assignment, the output of the cell and/or a comment will be provided.  One has to deduce the code that will be needed to produce the given output. The cells without any comment or output just need to be run. Good Luck!"
   ]
  },
  {
   "cell_type": "code",
   "execution_count": 5,
   "metadata": {},
   "outputs": [],
   "source": [
    "#Importing all the required libraries\n",
    "import pandas as pd\n",
    "import numpy as np"
   ]
  },
  {
   "cell_type": "code",
   "execution_count": 17,
   "metadata": {},
   "outputs": [],
   "source": [
    "india_news = pd.read_csv('../datasets/india-news-headlines-short.csv')"
   ]
  },
  {
   "cell_type": "code",
   "execution_count": 18,
   "metadata": {},
   "outputs": [
    {
     "data": {
      "text/html": [
       "<div>\n",
       "<style scoped>\n",
       "    .dataframe tbody tr th:only-of-type {\n",
       "        vertical-align: middle;\n",
       "    }\n",
       "\n",
       "    .dataframe tbody tr th {\n",
       "        vertical-align: top;\n",
       "    }\n",
       "\n",
       "    .dataframe thead th {\n",
       "        text-align: right;\n",
       "    }\n",
       "</style>\n",
       "<table border=\"1\" class=\"dataframe\">\n",
       "  <thead>\n",
       "    <tr style=\"text-align: right;\">\n",
       "      <th></th>\n",
       "      <th>Unnamed: 0</th>\n",
       "      <th>publish_date</th>\n",
       "      <th>headline_category</th>\n",
       "      <th>headline_text</th>\n",
       "    </tr>\n",
       "  </thead>\n",
       "  <tbody>\n",
       "    <tr>\n",
       "      <th>0</th>\n",
       "      <td>0</td>\n",
       "      <td>20010102</td>\n",
       "      <td>unknown</td>\n",
       "      <td>Status quo will not be disturbed at Ayodhya; s...</td>\n",
       "    </tr>\n",
       "    <tr>\n",
       "      <th>1</th>\n",
       "      <td>1</td>\n",
       "      <td>20010102</td>\n",
       "      <td>unknown</td>\n",
       "      <td>Fissures in Hurriyat over Pak visit</td>\n",
       "    </tr>\n",
       "    <tr>\n",
       "      <th>2</th>\n",
       "      <td>2</td>\n",
       "      <td>20010102</td>\n",
       "      <td>unknown</td>\n",
       "      <td>America's unwanted heading for India?</td>\n",
       "    </tr>\n",
       "    <tr>\n",
       "      <th>3</th>\n",
       "      <td>3</td>\n",
       "      <td>20010102</td>\n",
       "      <td>unknown</td>\n",
       "      <td>For bigwigs; it is destination Goa</td>\n",
       "    </tr>\n",
       "    <tr>\n",
       "      <th>4</th>\n",
       "      <td>4</td>\n",
       "      <td>20010102</td>\n",
       "      <td>unknown</td>\n",
       "      <td>Extra buses to clear tourist traffic</td>\n",
       "    </tr>\n",
       "    <tr>\n",
       "      <th>...</th>\n",
       "      <td>...</td>\n",
       "      <td>...</td>\n",
       "      <td>...</td>\n",
       "      <td>...</td>\n",
       "    </tr>\n",
       "    <tr>\n",
       "      <th>3995</th>\n",
       "      <td>3995</td>\n",
       "      <td>20010505</td>\n",
       "      <td>unknown</td>\n",
       "      <td>90;000 MSU marksheets had a spelling mistake!</td>\n",
       "    </tr>\n",
       "    <tr>\n",
       "      <th>3996</th>\n",
       "      <td>3996</td>\n",
       "      <td>20010505</td>\n",
       "      <td>unknown</td>\n",
       "      <td>Another sandalwood tree felled on MSU campus</td>\n",
       "    </tr>\n",
       "    <tr>\n",
       "      <th>3997</th>\n",
       "      <td>3997</td>\n",
       "      <td>20010505</td>\n",
       "      <td>unknown</td>\n",
       "      <td>Another case of CAS violation on MSU campus</td>\n",
       "    </tr>\n",
       "    <tr>\n",
       "      <th>3998</th>\n",
       "      <td>3998</td>\n",
       "      <td>20010505</td>\n",
       "      <td>unknown</td>\n",
       "      <td>Petrol becomes cheaper; diesel dearer</td>\n",
       "    </tr>\n",
       "    <tr>\n",
       "      <th>3999</th>\n",
       "      <td>3999</td>\n",
       "      <td>20010505</td>\n",
       "      <td>unknown</td>\n",
       "      <td>Probe ordered into death of sparrows</td>\n",
       "    </tr>\n",
       "  </tbody>\n",
       "</table>\n",
       "<p>4000 rows × 4 columns</p>\n",
       "</div>"
      ],
      "text/plain": [
       "      Unnamed: 0  publish_date headline_category  \\\n",
       "0              0      20010102           unknown   \n",
       "1              1      20010102           unknown   \n",
       "2              2      20010102           unknown   \n",
       "3              3      20010102           unknown   \n",
       "4              4      20010102           unknown   \n",
       "...          ...           ...               ...   \n",
       "3995        3995      20010505           unknown   \n",
       "3996        3996      20010505           unknown   \n",
       "3997        3997      20010505           unknown   \n",
       "3998        3998      20010505           unknown   \n",
       "3999        3999      20010505           unknown   \n",
       "\n",
       "                                          headline_text  \n",
       "0     Status quo will not be disturbed at Ayodhya; s...  \n",
       "1                   Fissures in Hurriyat over Pak visit  \n",
       "2                 America's unwanted heading for India?  \n",
       "3                    For bigwigs; it is destination Goa  \n",
       "4                  Extra buses to clear tourist traffic  \n",
       "...                                                 ...  \n",
       "3995      90;000 MSU marksheets had a spelling mistake!  \n",
       "3996       Another sandalwood tree felled on MSU campus  \n",
       "3997        Another case of CAS violation on MSU campus  \n",
       "3998              Petrol becomes cheaper; diesel dearer  \n",
       "3999               Probe ordered into death of sparrows  \n",
       "\n",
       "[4000 rows x 4 columns]"
      ]
     },
     "execution_count": 18,
     "metadata": {},
     "output_type": "execute_result"
    }
   ],
   "source": [
    "india_news"
   ]
  },
  {
   "cell_type": "markdown",
   "metadata": {},
   "source": [
    "### Basic Operations"
   ]
  },
  {
   "cell_type": "code",
   "execution_count": 19,
   "metadata": {},
   "outputs": [
    {
     "data": {
      "text/plain": [
       "0       unknown\n",
       "1       unknown\n",
       "2       unknown\n",
       "3       unknown\n",
       "4       unknown\n",
       "         ...   \n",
       "3995    unknown\n",
       "3996    unknown\n",
       "3997    unknown\n",
       "3998    unknown\n",
       "3999    unknown\n",
       "Name: headline_category, Length: 4000, dtype: object"
      ]
     },
     "execution_count": 19,
     "metadata": {},
     "output_type": "execute_result"
    }
   ],
   "source": [
    "#Store and print the rows of the column 'headline_category' in a single variable 'category'"
   ]
  },
  {
   "cell_type": "code",
   "execution_count": 20,
   "metadata": {},
   "outputs": [
    {
     "data": {
      "text/plain": [
       "0       Status quo will not be disturbed at Ayodhya; s...\n",
       "1                     Fissures in Hurriyat over Pak visit\n",
       "2                   America's unwanted heading for India?\n",
       "3                      For bigwigs; it is destination Goa\n",
       "4                    Extra buses to clear tourist traffic\n",
       "                              ...                        \n",
       "3995        90;000 MSU marksheets had a spelling mistake!\n",
       "3996         Another sandalwood tree felled on MSU campus\n",
       "3997          Another case of CAS violation on MSU campus\n",
       "3998                Petrol becomes cheaper; diesel dearer\n",
       "3999                 Probe ordered into death of sparrows\n",
       "Name: headline_text, Length: 4000, dtype: object"
      ]
     },
     "execution_count": 20,
     "metadata": {},
     "output_type": "execute_result"
    }
   ],
   "source": [
    "#Store and print the rows of the column 'headline_text' in a single variable 'headlines'"
   ]
  },
  {
   "cell_type": "code",
   "execution_count": 14,
   "metadata": {},
   "outputs": [
    {
     "data": {
      "text/plain": [
       "publish_date          int64\n",
       "headline_category    object\n",
       "headline_text        object\n",
       "dtype: object"
      ]
     },
     "execution_count": 14,
     "metadata": {},
     "output_type": "execute_result"
    }
   ],
   "source": [
    "#Check the data-type of each column of the dataset."
   ]
  },
  {
   "cell_type": "code",
   "execution_count": 21,
   "metadata": {},
   "outputs": [
    {
     "data": {
      "text/plain": [
       "'Four more Iranians admit to role in serial murders'"
      ]
     },
     "execution_count": 21,
     "metadata": {},
     "output_type": "execute_result"
    }
   ],
   "source": [
    "# Pick a line from the 'headline_text' using a generated random number and store it in variable 'line'.\n",
    "# Challenge : Do it in a single line of code. (It can be displayed using another line of code.)"
   ]
  },
  {
   "cell_type": "code",
   "execution_count": 22,
   "metadata": {},
   "outputs": [
    {
     "data": {
      "text/plain": [
       "'FOUR MORE IRANIANS ADMIT TO ROLE IN SERIAL MURDERS'"
      ]
     },
     "execution_count": 22,
     "metadata": {},
     "output_type": "execute_result"
    }
   ],
   "source": [
    "# Convert each letter of the 'line' variable to uppercase."
   ]
  },
  {
   "cell_type": "code",
   "execution_count": 23,
   "metadata": {},
   "outputs": [
    {
     "data": {
      "text/plain": [
       "'four more iranians admit to role in serial murders'"
      ]
     },
     "execution_count": 23,
     "metadata": {},
     "output_type": "execute_result"
    }
   ],
   "source": [
    "# Convert each letter of the 'line' variable to lowercase."
   ]
  },
  {
   "cell_type": "code",
   "execution_count": 24,
   "metadata": {},
   "outputs": [
    {
     "data": {
      "text/plain": [
       "50"
      ]
     },
     "execution_count": 24,
     "metadata": {},
     "output_type": "execute_result"
    }
   ],
   "source": [
    "# Find the length of the string stored in 'line'."
   ]
  },
  {
   "cell_type": "code",
   "execution_count": 27,
   "metadata": {},
   "outputs": [
    {
     "data": {
      "text/plain": [
       "'Four more iranians admit to role in serial murders'"
      ]
     },
     "execution_count": 27,
     "metadata": {},
     "output_type": "execute_result"
    }
   ],
   "source": [
    "# Capitalize the string store in 'line'."
   ]
  },
  {
   "cell_type": "code",
   "execution_count": 28,
   "metadata": {},
   "outputs": [
    {
     "data": {
      "text/plain": [
       "False"
      ]
     },
     "execution_count": 28,
     "metadata": {},
     "output_type": "execute_result"
    }
   ],
   "source": [
    "# Check if the string begins with the word 'The'."
   ]
  },
  {
   "cell_type": "code",
   "execution_count": 29,
   "metadata": {},
   "outputs": [
    {
     "name": "stdout",
     "output_type": "stream",
     "text": [
      "114\n"
     ]
    }
   ],
   "source": [
    "# Challenge: Find the number of strings that start with the word 'The' in the dataset column 'headline_text'.\n",
    "# It may take time if you use a for loop. Try some other approach?"
   ]
  },
  {
   "cell_type": "markdown",
   "metadata": {},
   "source": [
    "### Intermediate Exercises"
   ]
  },
  {
   "cell_type": "code",
   "execution_count": 30,
   "metadata": {},
   "outputs": [
    {
     "data": {
      "text/plain": [
       "0       Status quo will not be disturbed at Ayodhya; s...\n",
       "1                     Fissures in Hurriyat over Pak visit\n",
       "2                   America's unwanted heading for India?\n",
       "3                      For bigwigs; it is destination Goa\n",
       "4                    Extra buses to clear tourist traffic\n",
       "                              ...                        \n",
       "3995        90;000 MSU marksheets had a spelling mistake!\n",
       "3996         Another sandalwood tree felled on MSU campus\n",
       "3997          Another case of CAS violation on MSU campus\n",
       "3998                Petrol becomes cheaper; diesel dearer\n",
       "3999                 Probe ordered into death of sparrows\n",
       "Name: headline_text, Length: 4000, dtype: object"
      ]
     },
     "execution_count": 30,
     "metadata": {},
     "output_type": "execute_result"
    }
   ],
   "source": [
    "india_news['headline_text']"
   ]
  },
  {
   "cell_type": "code",
   "execution_count": 32,
   "metadata": {},
   "outputs": [
    {
     "data": {
      "text/plain": [
       "0       Status\n",
       "1       Fissur\n",
       "2       Americ\n",
       "3       For bi\n",
       "4       Extra \n",
       "         ...  \n",
       "3995    90;000\n",
       "3996    Anothe\n",
       "3997    Anothe\n",
       "3998    Petrol\n",
       "3999    Probe \n",
       "Name: headline_text, Length: 4000, dtype: object"
      ]
     },
     "execution_count": 32,
     "metadata": {},
     "output_type": "execute_result"
    }
   ],
   "source": [
    "# Extract the first 6 characters of each row of the column 'headline_text' of the dataset."
   ]
  },
  {
   "cell_type": "code",
   "execution_count": 33,
   "metadata": {},
   "outputs": [
    {
     "data": {
      "text/plain": [
       "['Four', 'more']"
      ]
     },
     "execution_count": 33,
     "metadata": {},
     "output_type": "execute_result"
    }
   ],
   "source": [
    "# Split the words of the string stored in the 'line' variable and print the first 2 words."
   ]
  },
  {
   "cell_type": "code",
   "execution_count": 34,
   "metadata": {},
   "outputs": [
    {
     "name": "stdout",
     "output_type": "stream",
     "text": [
      "murders\n",
      "admit\n",
      "more\n",
      "Four\n",
      "Iranians\n",
      "to\n",
      "role\n",
      "serial\n",
      "in\n"
     ]
    }
   ],
   "source": [
    "#Challenge: Print all the unique words in the variable 'line'. Hint: Use the 'split' function."
   ]
  },
  {
   "cell_type": "code",
   "execution_count": 35,
   "metadata": {},
   "outputs": [
    {
     "data": {
      "text/plain": [
       "-1"
      ]
     },
     "execution_count": 35,
     "metadata": {},
     "output_type": "execute_result"
    }
   ],
   "source": [
    "#Find the position of the word 'The' in the 'line' variable, if not present then search for any word that you know that is present in that string.\n",
    "#What is printed when the word isn't present in the string? Google why!\n",
    "line.find('The')"
   ]
  },
  {
   "cell_type": "code",
   "execution_count": 36,
   "metadata": {},
   "outputs": [
    {
     "data": {
      "text/plain": [
       "0"
      ]
     },
     "execution_count": 36,
     "metadata": {},
     "output_type": "execute_result"
    }
   ],
   "source": [
    "#Find the number of times the word 'The' occurs in the 'line' variable.\n",
    "line.count('The')"
   ]
  },
  {
   "cell_type": "code",
   "execution_count": 44,
   "metadata": {},
   "outputs": [
    {
     "data": {
      "text/plain": [
       "'Fu oeIain di orl nsra udr'"
      ]
     },
     "execution_count": 44,
     "metadata": {},
     "output_type": "execute_result"
    }
   ],
   "source": [
    "# Print characters from string stored in 'line' variable by skipping each second letter.\n",
    "# Note: Whitespaces are counted as characters."
   ]
  },
  {
   "cell_type": "code",
   "execution_count": 37,
   "metadata": {},
   "outputs": [
    {
     "name": "stdout",
     "output_type": "stream",
     "text": [
      "None\n"
     ]
    }
   ],
   "source": [
    "# Challenge: Find the word that occurs with the highest frequency in the string stored in the 'line' variable.\n",
    "# Print 'None' if all words have the same frequency."
   ]
  },
  {
   "cell_type": "code",
   "execution_count": null,
   "metadata": {},
   "outputs": [],
   "source": [
    "# Final Challenge: Find the frequency of each character in the string stored in 'line' variable in the form of a dictionary. \n",
    "# No output has been provided to make sure the student tries to solve a problem with no hint. :)"
   ]
  },
  {
   "cell_type": "markdown",
   "metadata": {},
   "source": [
    "#### References\n",
    "\n",
    "1. https://www.kaggle.com/therohk/india-headlines-news-dataset/version/3\n",
    "2. https://www.learnpython.org/en/Basic_String_Operations"
   ]
  }
 ],
 "metadata": {
  "kernelspec": {
   "display_name": "Python 3",
   "language": "python",
   "name": "python3"
  },
  "language_info": {
   "codemirror_mode": {
    "name": "ipython",
    "version": 3
   },
   "file_extension": ".py",
   "mimetype": "text/x-python",
   "name": "python",
   "nbconvert_exporter": "python",
   "pygments_lexer": "ipython3",
   "version": "3.6.13"
  }
 },
 "nbformat": 4,
 "nbformat_minor": 2
}
